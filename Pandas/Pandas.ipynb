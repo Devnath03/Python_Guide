{
 "cells": [
  {
   "cell_type": "code",
   "execution_count": 2,
   "id": "2d07c647-2fea-41a3-a6eb-decb666afa73",
   "metadata": {},
   "outputs": [],
   "source": [
    "# Import Pandas Library\n",
    "import pandas as pd"
   ]
  },
  {
   "cell_type": "code",
   "execution_count": null,
   "id": "60363968-dfbe-4003-b4a2-dd748e22bb58",
   "metadata": {},
   "outputs": [],
   "source": [
    "#Import Pandas library & create one direction array\n",
    "import pandas as pd\n",
    "s1 = pd.Series(data=[30,6,'yellow','not'],index=['eegs','apple','banana','mango'])\n"
   ]
  },
  {
   "cell_type": "code",
   "execution_count": 11,
   "id": "e7d4acb2-8763-46c8-9513-6beb6d3a04a6",
   "metadata": {},
   "outputs": [
    {
     "data": {
      "text/plain": [
       "eegs          30\n",
       "apple          6\n",
       "banana    yellow\n",
       "mango        not\n",
       "dtype: object"
      ]
     },
     "execution_count": 11,
     "metadata": {},
     "output_type": "execute_result"
    }
   ],
   "source": [
    "#Get Array output\n",
    "s1"
   ]
  },
  {
   "cell_type": "code",
   "execution_count": 12,
   "id": "2ffbaf30-8cc3-4a67-8559-e769af4d4adb",
   "metadata": {},
   "outputs": [
    {
     "data": {
      "text/plain": [
       "(4,)"
      ]
     },
     "execution_count": 12,
     "metadata": {},
     "output_type": "execute_result"
    }
   ],
   "source": [
    "#Check Shape of Array\n",
    "s1.shape"
   ]
  },
  {
   "cell_type": "code",
   "execution_count": 13,
   "id": "83fcb45a-a93b-40ef-9bd3-728ae5dbccf8",
   "metadata": {},
   "outputs": [
    {
     "data": {
      "text/plain": [
       "1"
      ]
     },
     "execution_count": 13,
     "metadata": {},
     "output_type": "execute_result"
    }
   ],
   "source": [
    "#Check Direction of Array\n",
    "s1.ndim"
   ]
  },
  {
   "cell_type": "code",
   "execution_count": 14,
   "id": "1daba640-352b-475e-8266-8826d7c6f60c",
   "metadata": {},
   "outputs": [
    {
     "data": {
      "text/plain": [
       "Index(['eegs', 'apple', 'banana', 'mango'], dtype='object')"
      ]
     },
     "execution_count": 14,
     "metadata": {},
     "output_type": "execute_result"
    }
   ],
   "source": [
    "#Get Indexes\n",
    "s1.index"
   ]
  },
  {
   "cell_type": "code",
   "execution_count": 16,
   "id": "fec1b0b8-80da-48e6-ae61-c81666b1df11",
   "metadata": {},
   "outputs": [
    {
     "data": {
      "text/plain": [
       "array([30, 6, 'yellow', 'not'], dtype=object)"
      ]
     },
     "execution_count": 16,
     "metadata": {},
     "output_type": "execute_result"
    }
   ],
   "source": [
    "#Get values\n",
    "s1.values"
   ]
  },
  {
   "cell_type": "code",
   "execution_count": 18,
   "id": "b0a52c28-abfc-43c9-8f9b-01cfeb74c58a",
   "metadata": {},
   "outputs": [
    {
     "data": {
      "text/plain": [
       "True"
      ]
     },
     "execution_count": 18,
     "metadata": {},
     "output_type": "execute_result"
    }
   ],
   "source": [
    "#Search array indexes values\n",
    "'banana' in s1"
   ]
  },
  {
   "cell_type": "code",
   "execution_count": 26,
   "id": "4e09dddd-7343-4303-8639-6cde04e36d84",
   "metadata": {},
   "outputs": [
    {
     "data": {
      "text/plain": [
       "apple          6\n",
       "banana    yellow\n",
       "dtype: object"
      ]
     },
     "execution_count": 26,
     "metadata": {},
     "output_type": "execute_result"
    }
   ],
   "source": [
    "#Search array index in values\n",
    "s1[['apple','banana']]"
   ]
  },
  {
   "cell_type": "code",
   "execution_count": 28,
   "id": "db7a8caf-f6b2-40ef-b99b-fef104a6fec5",
   "metadata": {},
   "outputs": [
    {
     "data": {
      "text/plain": [
       "'mango'"
      ]
     },
     "execution_count": 28,
     "metadata": {},
     "output_type": "execute_result"
    }
   ],
   "source": [
    "#Check Index value\n",
    "s1.index[3]"
   ]
  },
  {
   "cell_type": "code",
   "execution_count": 29,
   "id": "cd2798b6-1b1d-4eb6-98a7-de06be8007f2",
   "metadata": {},
   "outputs": [
    {
     "data": {
      "text/plain": [
       "apple          6\n",
       "banana    yellow\n",
       "dtype: object"
      ]
     },
     "execution_count": 29,
     "metadata": {},
     "output_type": "execute_result"
    }
   ],
   "source": [
    "#Search array index in values loc option\n",
    "s1.loc[['apple','banana']]"
   ]
  },
  {
   "cell_type": "code",
   "execution_count": null,
   "id": "5575eff7-63d8-4c4f-ad62-e5393fe76441",
   "metadata": {},
   "outputs": [],
   "source": [
    "#Update values in Array\n",
    "s1['eegs'] = 2"
   ]
  },
  {
   "cell_type": "code",
   "execution_count": 34,
   "id": "42bf0d63-96bf-497e-ad35-a1faf7b8aaa8",
   "metadata": {},
   "outputs": [
    {
     "data": {
      "text/plain": [
       "eegs           2\n",
       "apple          6\n",
       "banana    yellow\n",
       "mango        not\n",
       "dtype: object"
      ]
     },
     "execution_count": 34,
     "metadata": {},
     "output_type": "execute_result"
    }
   ],
   "source": [
    "s1"
   ]
  },
  {
   "cell_type": "code",
   "execution_count": 38,
   "id": "ef1a4c5d-3bd5-418c-8346-35dd34825537",
   "metadata": {},
   "outputs": [
    {
     "data": {
      "text/plain": [
       "eegs           2\n",
       "banana    yellow\n",
       "mango        not\n",
       "dtype: object"
      ]
     },
     "execution_count": 38,
     "metadata": {},
     "output_type": "execute_result"
    }
   ],
   "source": [
    "#Drop element in Array\n",
    "s1.drop('apple')"
   ]
  },
  {
   "cell_type": "code",
   "execution_count": 36,
   "id": "b8b33e42-1ead-4224-8b58-efd915819a12",
   "metadata": {},
   "outputs": [
    {
     "data": {
      "text/plain": [
       "eegs           2\n",
       "apple          6\n",
       "banana    yellow\n",
       "mango        not\n",
       "dtype: object"
      ]
     },
     "execution_count": 36,
     "metadata": {},
     "output_type": "execute_result"
    }
   ],
   "source": [
    "#Print optinal Array\n",
    "s1"
   ]
  },
  {
   "cell_type": "code",
   "execution_count": 40,
   "id": "62268655-a39e-44ba-9d47-f783e8f72991",
   "metadata": {},
   "outputs": [],
   "source": [
    "# Import Pandas library\n",
    "import pandas as pd\n",
    "# Create array element\n",
    "fruits = pd.Series([10,6,3],['apple','orange','banana'])"
   ]
  },
  {
   "cell_type": "code",
   "execution_count": 63,
   "id": "a1f117c5-6bb0-4a3d-a108-c3beb75bc34f",
   "metadata": {},
   "outputs": [
    {
     "data": {
      "text/plain": [
       "apple     202\n",
       "orange    198\n",
       "banana    195\n",
       "dtype: int64"
      ]
     },
     "execution_count": 63,
     "metadata": {},
     "output_type": "execute_result"
    }
   ],
   "source": [
    "# Execute Array Operation\n",
    "fruits"
   ]
  },
  {
   "cell_type": "code",
   "execution_count": 64,
   "id": "79549e3f-5315-4767-a727-2f2b4948e719",
   "metadata": {},
   "outputs": [],
   "source": [
    "# Manipualte the Array Element\n",
    "fruits = fruits + 2"
   ]
  },
  {
   "cell_type": "code",
   "execution_count": 66,
   "id": "c1291257-b752-43a8-aa36-f95586692cc8",
   "metadata": {},
   "outputs": [
    {
     "data": {
      "text/plain": [
       "apple     204\n",
       "orange    200\n",
       "banana    197\n",
       "dtype: int64"
      ]
     },
     "execution_count": 66,
     "metadata": {},
     "output_type": "execute_result"
    }
   ],
   "source": [
    "fruits"
   ]
  },
  {
   "cell_type": "code",
   "execution_count": 67,
   "id": "e48f1db7-fb9c-4e72-aae3-633eb469d967",
   "metadata": {},
   "outputs": [],
   "source": [
    "fruits = fruits - 3"
   ]
  },
  {
   "cell_type": "code",
   "execution_count": 69,
   "id": "fa9857c3-d020-4c45-bbb0-92972c824f72",
   "metadata": {},
   "outputs": [
    {
     "data": {
      "text/plain": [
       "apple     201\n",
       "orange    197\n",
       "banana    194\n",
       "dtype: int64"
      ]
     },
     "execution_count": 69,
     "metadata": {},
     "output_type": "execute_result"
    }
   ],
   "source": [
    "fruits"
   ]
  },
  {
   "cell_type": "code",
   "execution_count": 71,
   "id": "d8882aad-38a3-4f41-b3df-b464846b8527",
   "metadata": {},
   "outputs": [
    {
     "data": {
      "text/plain": [
       "apple     14.177447\n",
       "orange    14.035669\n",
       "banana    13.928388\n",
       "dtype: float64"
      ]
     },
     "execution_count": 71,
     "metadata": {},
     "output_type": "execute_result"
    }
   ],
   "source": [
    "import numpy as np\n",
    "np.sqrt(fruits)"
   ]
  },
  {
   "cell_type": "code",
   "execution_count": 72,
   "id": "2ecb63c9-29fa-4971-bd8b-fc0656f4f9b4",
   "metadata": {},
   "outputs": [
    {
     "data": {
      "text/plain": [
       "apple     1.964223e+87\n",
       "orange    3.597601e+85\n",
       "banana    1.791140e+84\n",
       "dtype: float64"
      ]
     },
     "execution_count": 72,
     "metadata": {},
     "output_type": "execute_result"
    }
   ],
   "source": [
    "np.exp(fruits)"
   ]
  },
  {
   "cell_type": "code",
   "execution_count": 74,
   "id": "265ab138-22cc-4e4c-9f7b-4087d1f359c6",
   "metadata": {},
   "outputs": [
    {
     "data": {
      "text/plain": [
       "apple     40401\n",
       "orange    38809\n",
       "banana    37636\n",
       "dtype: int64"
      ]
     },
     "execution_count": 74,
     "metadata": {},
     "output_type": "execute_result"
    }
   ],
   "source": [
    "np.power(fruits,2)"
   ]
  },
  {
   "cell_type": "code",
   "execution_count": 75,
   "id": "37282134-117f-42a9-b07d-cd783bc2d4e2",
   "metadata": {},
   "outputs": [
    {
     "data": {
      "text/plain": [
       "np.int64(203)"
      ]
     },
     "execution_count": 75,
     "metadata": {},
     "output_type": "execute_result"
    }
   ],
   "source": [
    "fruits['apple']+2"
   ]
  },
  {
   "cell_type": "code",
   "execution_count": 76,
   "id": "0c281be6-8490-4cc0-9783-be4e21b697f1",
   "metadata": {},
   "outputs": [
    {
     "data": {
      "text/plain": [
       "np.int64(199)"
      ]
     },
     "execution_count": 76,
     "metadata": {},
     "output_type": "execute_result"
    }
   ],
   "source": [
    "fruits.iloc[0]-2"
   ]
  },
  {
   "cell_type": "code",
   "execution_count": 77,
   "id": "3f301197-92fa-4963-9df5-90b57ceac7fc",
   "metadata": {},
   "outputs": [
    {
     "data": {
      "text/plain": [
       "apple     100.5\n",
       "orange     98.5\n",
       "dtype: float64"
      ]
     },
     "execution_count": 77,
     "metadata": {},
     "output_type": "execute_result"
    }
   ],
   "source": [
    "fruits.loc[['apple','orange']]/2"
   ]
  },
  {
   "cell_type": "code",
   "execution_count": 79,
   "id": "f7b25c7c-428e-480d-a518-8a9447147d30",
   "metadata": {},
   "outputs": [],
   "source": [
    "#Create data Framework\n",
    "items = {\n",
    "    'nisal' : pd.Series([245,25,55],['book','pen','watch']),\n",
    "    'kamal' : pd.Series([410,26,85],['bikk','ret','catch']),\n",
    "}"
   ]
  },
  {
   "cell_type": "code",
   "execution_count": 88,
   "id": "c9db8595-6f62-4f00-8a47-e39d5ec4c61d",
   "metadata": {},
   "outputs": [
    {
     "data": {
      "text/plain": [
       "dict"
      ]
     },
     "execution_count": 88,
     "metadata": {},
     "output_type": "execute_result"
    }
   ],
   "source": [
    "type(items)"
   ]
  },
  {
   "cell_type": "code",
   "execution_count": 92,
   "id": "05cb8cda-3e00-49d7-8a4d-4d90c89870de",
   "metadata": {},
   "outputs": [],
   "source": [
    "shopping_cart = pd.DataFrame(items)"
   ]
  },
  {
   "cell_type": "code",
   "execution_count": 93,
   "id": "d3a8a813-ea86-4369-9a21-0dc6898af003",
   "metadata": {},
   "outputs": [
    {
     "data": {
      "text/html": [
       "<div>\n",
       "<style scoped>\n",
       "    .dataframe tbody tr th:only-of-type {\n",
       "        vertical-align: middle;\n",
       "    }\n",
       "\n",
       "    .dataframe tbody tr th {\n",
       "        vertical-align: top;\n",
       "    }\n",
       "\n",
       "    .dataframe thead th {\n",
       "        text-align: right;\n",
       "    }\n",
       "</style>\n",
       "<table border=\"1\" class=\"dataframe\">\n",
       "  <thead>\n",
       "    <tr style=\"text-align: right;\">\n",
       "      <th></th>\n",
       "      <th>nisal</th>\n",
       "      <th>kamal</th>\n",
       "    </tr>\n",
       "  </thead>\n",
       "  <tbody>\n",
       "    <tr>\n",
       "      <th>bikk</th>\n",
       "      <td>NaN</td>\n",
       "      <td>410.0</td>\n",
       "    </tr>\n",
       "    <tr>\n",
       "      <th>book</th>\n",
       "      <td>245.0</td>\n",
       "      <td>NaN</td>\n",
       "    </tr>\n",
       "    <tr>\n",
       "      <th>catch</th>\n",
       "      <td>NaN</td>\n",
       "      <td>85.0</td>\n",
       "    </tr>\n",
       "    <tr>\n",
       "      <th>pen</th>\n",
       "      <td>25.0</td>\n",
       "      <td>NaN</td>\n",
       "    </tr>\n",
       "    <tr>\n",
       "      <th>ret</th>\n",
       "      <td>NaN</td>\n",
       "      <td>26.0</td>\n",
       "    </tr>\n",
       "    <tr>\n",
       "      <th>watch</th>\n",
       "      <td>55.0</td>\n",
       "      <td>NaN</td>\n",
       "    </tr>\n",
       "  </tbody>\n",
       "</table>\n",
       "</div>"
      ],
      "text/plain": [
       "       nisal  kamal\n",
       "bikk     NaN  410.0\n",
       "book   245.0    NaN\n",
       "catch    NaN   85.0\n",
       "pen     25.0    NaN\n",
       "ret      NaN   26.0\n",
       "watch   55.0    NaN"
      ]
     },
     "execution_count": 93,
     "metadata": {},
     "output_type": "execute_result"
    }
   ],
   "source": [
    "shopping_cart"
   ]
  },
  {
   "cell_type": "code",
   "execution_count": 94,
   "id": "03a13ada-c980-4c7a-a7e5-3d8274e245ec",
   "metadata": {},
   "outputs": [
    {
     "data": {
      "text/plain": [
       "Index(['bikk', 'book', 'catch', 'pen', 'ret', 'watch'], dtype='object')"
      ]
     },
     "execution_count": 94,
     "metadata": {},
     "output_type": "execute_result"
    }
   ],
   "source": [
    "shopping_cart.index"
   ]
  },
  {
   "cell_type": "code",
   "execution_count": 95,
   "id": "ddad50ef-133b-41ee-b68a-ae581cc04530",
   "metadata": {},
   "outputs": [
    {
     "data": {
      "text/plain": [
       "Index(['nisal', 'kamal'], dtype='object')"
      ]
     },
     "execution_count": 95,
     "metadata": {},
     "output_type": "execute_result"
    }
   ],
   "source": [
    "shopping_cart.columns"
   ]
  },
  {
   "cell_type": "code",
   "execution_count": 96,
   "id": "2ff59e28-5d48-4c37-97e5-af695998ee39",
   "metadata": {},
   "outputs": [
    {
     "data": {
      "text/plain": [
       "array([[ nan, 410.],\n",
       "       [245.,  nan],\n",
       "       [ nan,  85.],\n",
       "       [ 25.,  nan],\n",
       "       [ nan,  26.],\n",
       "       [ 55.,  nan]])"
      ]
     },
     "execution_count": 96,
     "metadata": {},
     "output_type": "execute_result"
    }
   ],
   "source": [
    "shopping_cart.values"
   ]
  },
  {
   "cell_type": "code",
   "execution_count": 97,
   "id": "9e8a187c-e4ee-4925-8f90-315dd158ec54",
   "metadata": {},
   "outputs": [
    {
     "data": {
      "text/plain": [
       "(6, 2)"
      ]
     },
     "execution_count": 97,
     "metadata": {},
     "output_type": "execute_result"
    }
   ],
   "source": [
    "shopping_cart.shape"
   ]
  },
  {
   "cell_type": "code",
   "execution_count": 98,
   "id": "44220591-d6e7-41a8-80fa-29c01b2b5e73",
   "metadata": {},
   "outputs": [
    {
     "data": {
      "text/plain": [
       "12"
      ]
     },
     "execution_count": 98,
     "metadata": {},
     "output_type": "execute_result"
    }
   ],
   "source": [
    "shopping_cart.size"
   ]
  },
  {
   "cell_type": "code",
   "execution_count": 99,
   "id": "2360e997-cdea-4893-84be-bdec72b09be8",
   "metadata": {},
   "outputs": [
    {
     "data": {
      "text/plain": [
       "2"
      ]
     },
     "execution_count": 99,
     "metadata": {},
     "output_type": "execute_result"
    }
   ],
   "source": [
    "shopping_cart.ndim"
   ]
  },
  {
   "cell_type": "code",
   "execution_count": 103,
   "id": "c27affb2-80e3-4231-89c6-bc8f94f1dde8",
   "metadata": {},
   "outputs": [
    {
     "data": {
      "text/html": [
       "<div>\n",
       "<style scoped>\n",
       "    .dataframe tbody tr th:only-of-type {\n",
       "        vertical-align: middle;\n",
       "    }\n",
       "\n",
       "    .dataframe tbody tr th {\n",
       "        vertical-align: top;\n",
       "    }\n",
       "\n",
       "    .dataframe thead th {\n",
       "        text-align: right;\n",
       "    }\n",
       "</style>\n",
       "<table border=\"1\" class=\"dataframe\">\n",
       "  <thead>\n",
       "    <tr style=\"text-align: right;\">\n",
       "      <th></th>\n",
       "      <th>nisal</th>\n",
       "    </tr>\n",
       "  </thead>\n",
       "  <tbody>\n",
       "    <tr>\n",
       "      <th>book</th>\n",
       "      <td>245</td>\n",
       "    </tr>\n",
       "    <tr>\n",
       "      <th>pen</th>\n",
       "      <td>25</td>\n",
       "    </tr>\n",
       "    <tr>\n",
       "      <th>watch</th>\n",
       "      <td>55</td>\n",
       "    </tr>\n",
       "  </tbody>\n",
       "</table>\n",
       "</div>"
      ],
      "text/plain": [
       "       nisal\n",
       "book     245\n",
       "pen       25\n",
       "watch     55"
      ]
     },
     "execution_count": 103,
     "metadata": {},
     "output_type": "execute_result"
    }
   ],
   "source": [
    "nisal_shopping_cart = pd.DataFrame(items,columns = ['nisal'])\n",
    "nisal_shopping_cart"
   ]
  },
  {
   "cell_type": "code",
   "execution_count": 104,
   "id": "13d96502-d063-4cb7-807f-accb676f8871",
   "metadata": {},
   "outputs": [
    {
     "data": {
      "text/html": [
       "<div>\n",
       "<style scoped>\n",
       "    .dataframe tbody tr th:only-of-type {\n",
       "        vertical-align: middle;\n",
       "    }\n",
       "\n",
       "    .dataframe tbody tr th {\n",
       "        vertical-align: top;\n",
       "    }\n",
       "\n",
       "    .dataframe thead th {\n",
       "        text-align: right;\n",
       "    }\n",
       "</style>\n",
       "<table border=\"1\" class=\"dataframe\">\n",
       "  <thead>\n",
       "    <tr style=\"text-align: right;\">\n",
       "      <th></th>\n",
       "      <th>kamal</th>\n",
       "    </tr>\n",
       "  </thead>\n",
       "  <tbody>\n",
       "    <tr>\n",
       "      <th>bikk</th>\n",
       "      <td>410</td>\n",
       "    </tr>\n",
       "    <tr>\n",
       "      <th>ret</th>\n",
       "      <td>26</td>\n",
       "    </tr>\n",
       "    <tr>\n",
       "      <th>catch</th>\n",
       "      <td>85</td>\n",
       "    </tr>\n",
       "  </tbody>\n",
       "</table>\n",
       "</div>"
      ],
      "text/plain": [
       "       kamal\n",
       "bikk     410\n",
       "ret       26\n",
       "catch     85"
      ]
     },
     "execution_count": 104,
     "metadata": {},
     "output_type": "execute_result"
    }
   ],
   "source": [
    "kamal_shopping_cart = pd.DataFrame(items,columns = ['kamal'])\n",
    "kamal_shopping_cart"
   ]
  },
  {
   "cell_type": "code",
   "execution_count": 105,
   "id": "116a608c-d76b-478a-93a5-532856ce188f",
   "metadata": {},
   "outputs": [
    {
     "data": {
      "text/html": [
       "<div>\n",
       "<style scoped>\n",
       "    .dataframe tbody tr th:only-of-type {\n",
       "        vertical-align: middle;\n",
       "    }\n",
       "\n",
       "    .dataframe tbody tr th {\n",
       "        vertical-align: top;\n",
       "    }\n",
       "\n",
       "    .dataframe thead th {\n",
       "        text-align: right;\n",
       "    }\n",
       "</style>\n",
       "<table border=\"1\" class=\"dataframe\">\n",
       "  <thead>\n",
       "    <tr style=\"text-align: right;\">\n",
       "      <th></th>\n",
       "      <th>nisal</th>\n",
       "      <th>kamal</th>\n",
       "    </tr>\n",
       "  </thead>\n",
       "  <tbody>\n",
       "    <tr>\n",
       "      <th>book</th>\n",
       "      <td>245</td>\n",
       "      <td>NaN</td>\n",
       "    </tr>\n",
       "    <tr>\n",
       "      <th>pen</th>\n",
       "      <td>25</td>\n",
       "      <td>NaN</td>\n",
       "    </tr>\n",
       "  </tbody>\n",
       "</table>\n",
       "</div>"
      ],
      "text/plain": [
       "      nisal  kamal\n",
       "book    245    NaN\n",
       "pen      25    NaN"
      ]
     },
     "execution_count": 105,
     "metadata": {},
     "output_type": "execute_result"
    }
   ],
   "source": [
    "book_pen_cart = pd.DataFrame(items, index = ['book','pen'])\n",
    "book_pen_cart"
   ]
  },
  {
   "cell_type": "code",
   "execution_count": 107,
   "id": "50987a0c-e9a4-4f30-9ef6-df398b7e3ae5",
   "metadata": {},
   "outputs": [
    {
     "data": {
      "text/html": [
       "<div>\n",
       "<style scoped>\n",
       "    .dataframe tbody tr th:only-of-type {\n",
       "        vertical-align: middle;\n",
       "    }\n",
       "\n",
       "    .dataframe tbody tr th {\n",
       "        vertical-align: top;\n",
       "    }\n",
       "\n",
       "    .dataframe thead th {\n",
       "        text-align: right;\n",
       "    }\n",
       "</style>\n",
       "<table border=\"1\" class=\"dataframe\">\n",
       "  <thead>\n",
       "    <tr style=\"text-align: right;\">\n",
       "      <th></th>\n",
       "      <th>nisal</th>\n",
       "    </tr>\n",
       "  </thead>\n",
       "  <tbody>\n",
       "    <tr>\n",
       "      <th>book</th>\n",
       "      <td>245</td>\n",
       "    </tr>\n",
       "  </tbody>\n",
       "</table>\n",
       "</div>"
      ],
      "text/plain": [
       "      nisal\n",
       "book    245"
      ]
     },
     "execution_count": 107,
     "metadata": {},
     "output_type": "execute_result"
    }
   ],
   "source": [
    "nisal_book = pd.DataFrame(items, index = ['book'],columns=['nisal'])\n",
    "nisal_book"
   ]
  },
  {
   "cell_type": "code",
   "execution_count": 110,
   "id": "f7efe7a7-481b-4147-b8ef-67f1be6e5880",
   "metadata": {},
   "outputs": [
    {
     "data": {
      "text/html": [
       "<div>\n",
       "<style scoped>\n",
       "    .dataframe tbody tr th:only-of-type {\n",
       "        vertical-align: middle;\n",
       "    }\n",
       "\n",
       "    .dataframe tbody tr th {\n",
       "        vertical-align: top;\n",
       "    }\n",
       "\n",
       "    .dataframe thead th {\n",
       "        text-align: right;\n",
       "    }\n",
       "</style>\n",
       "<table border=\"1\" class=\"dataframe\">\n",
       "  <thead>\n",
       "    <tr style=\"text-align: right;\">\n",
       "      <th></th>\n",
       "      <th>nisal</th>\n",
       "      <th>kamal</th>\n",
       "    </tr>\n",
       "  </thead>\n",
       "  <tbody>\n",
       "    <tr>\n",
       "      <th>0</th>\n",
       "      <td>245</td>\n",
       "      <td>410</td>\n",
       "    </tr>\n",
       "    <tr>\n",
       "      <th>1</th>\n",
       "      <td>25</td>\n",
       "      <td>26</td>\n",
       "    </tr>\n",
       "    <tr>\n",
       "      <th>2</th>\n",
       "      <td>55</td>\n",
       "      <td>85</td>\n",
       "    </tr>\n",
       "  </tbody>\n",
       "</table>\n",
       "</div>"
      ],
      "text/plain": [
       "   nisal  kamal\n",
       "0    245    410\n",
       "1     25     26\n",
       "2     55     85"
      ]
     },
     "execution_count": 110,
     "metadata": {},
     "output_type": "execute_result"
    }
   ],
   "source": [
    "data =  {\n",
    "    'nisal' : pd.Series([245,25,55]),\n",
    "    'kamal' : pd.Series([410,26,85]),\n",
    "}\n",
    "df =pd.DataFrame(data)\n",
    "df"
   ]
  },
  {
   "cell_type": "code",
   "execution_count": 111,
   "id": "26768c95-1aac-47f0-88cd-296c1a1bfcbf",
   "metadata": {},
   "outputs": [
    {
     "data": {
      "text/html": [
       "<div>\n",
       "<style scoped>\n",
       "    .dataframe tbody tr th:only-of-type {\n",
       "        vertical-align: middle;\n",
       "    }\n",
       "\n",
       "    .dataframe tbody tr th {\n",
       "        vertical-align: top;\n",
       "    }\n",
       "\n",
       "    .dataframe thead th {\n",
       "        text-align: right;\n",
       "    }\n",
       "</style>\n",
       "<table border=\"1\" class=\"dataframe\">\n",
       "  <thead>\n",
       "    <tr style=\"text-align: right;\">\n",
       "      <th></th>\n",
       "      <th>nisal</th>\n",
       "      <th>kamal</th>\n",
       "    </tr>\n",
       "  </thead>\n",
       "  <tbody>\n",
       "    <tr>\n",
       "      <th>book</th>\n",
       "      <td>NaN</td>\n",
       "      <td>NaN</td>\n",
       "    </tr>\n",
       "    <tr>\n",
       "      <th>pen</th>\n",
       "      <td>NaN</td>\n",
       "      <td>NaN</td>\n",
       "    </tr>\n",
       "    <tr>\n",
       "      <th>watch</th>\n",
       "      <td>NaN</td>\n",
       "      <td>NaN</td>\n",
       "    </tr>\n",
       "  </tbody>\n",
       "</table>\n",
       "</div>"
      ],
      "text/plain": [
       "       nisal  kamal\n",
       "book     NaN    NaN\n",
       "pen      NaN    NaN\n",
       "watch    NaN    NaN"
      ]
     },
     "execution_count": 111,
     "metadata": {},
     "output_type": "execute_result"
    }
   ],
   "source": [
    "data =  {\n",
    "    'nisal' : pd.Series([245,25,55]),\n",
    "    'kamal' : pd.Series([410,26,85]),\n",
    "}\n",
    "df =pd.DataFrame(data,index = ['book','pen','watch'])\n",
    "df"
   ]
  },
  {
   "cell_type": "code",
   "execution_count": 114,
   "id": "e81cc104-72e1-402d-b34b-50bd3cfee831",
   "metadata": {},
   "outputs": [
    {
     "data": {
      "text/html": [
       "<div>\n",
       "<style scoped>\n",
       "    .dataframe tbody tr th:only-of-type {\n",
       "        vertical-align: middle;\n",
       "    }\n",
       "\n",
       "    .dataframe tbody tr th {\n",
       "        vertical-align: top;\n",
       "    }\n",
       "\n",
       "    .dataframe thead th {\n",
       "        text-align: right;\n",
       "    }\n",
       "</style>\n",
       "<table border=\"1\" class=\"dataframe\">\n",
       "  <thead>\n",
       "    <tr style=\"text-align: right;\">\n",
       "      <th></th>\n",
       "      <th>bikes</th>\n",
       "      <th>watch</th>\n",
       "      <th>cars</th>\n",
       "    </tr>\n",
       "  </thead>\n",
       "  <tbody>\n",
       "    <tr>\n",
       "      <th>store 1</th>\n",
       "      <td>20</td>\n",
       "      <td>35</td>\n",
       "      <td>50</td>\n",
       "    </tr>\n",
       "    <tr>\n",
       "      <th>store 2</th>\n",
       "      <td>20</td>\n",
       "      <td>35</td>\n",
       "      <td>50</td>\n",
       "    </tr>\n",
       "  </tbody>\n",
       "</table>\n",
       "</div>"
      ],
      "text/plain": [
       "          bikes  watch  cars\n",
       "store 1      20     35    50\n",
       "store 2      20     35    50"
      ]
     },
     "execution_count": 114,
     "metadata": {},
     "output_type": "execute_result"
    }
   ],
   "source": [
    "stores = [{'bikes':20,'watch':35,'cars':50},\n",
    "          {'bikes':20,'watch':35,'cars':50}]\n",
    "stores_items = pd.DataFrame(stores, index = ['store 1 ', 'store 2'])\n",
    "stores_items"
   ]
  },
  {
   "cell_type": "code",
   "execution_count": 116,
   "id": "99162f79-0c40-4d69-8476-2ffe42fbd38b",
   "metadata": {},
   "outputs": [
    {
     "data": {
      "text/html": [
       "<div>\n",
       "<style scoped>\n",
       "    .dataframe tbody tr th:only-of-type {\n",
       "        vertical-align: middle;\n",
       "    }\n",
       "\n",
       "    .dataframe tbody tr th {\n",
       "        vertical-align: top;\n",
       "    }\n",
       "\n",
       "    .dataframe thead th {\n",
       "        text-align: right;\n",
       "    }\n",
       "</style>\n",
       "<table border=\"1\" class=\"dataframe\">\n",
       "  <thead>\n",
       "    <tr style=\"text-align: right;\">\n",
       "      <th></th>\n",
       "      <th>bikes</th>\n",
       "    </tr>\n",
       "  </thead>\n",
       "  <tbody>\n",
       "    <tr>\n",
       "      <th>store 1</th>\n",
       "      <td>20</td>\n",
       "    </tr>\n",
       "    <tr>\n",
       "      <th>store 2</th>\n",
       "      <td>20</td>\n",
       "    </tr>\n",
       "  </tbody>\n",
       "</table>\n",
       "</div>"
      ],
      "text/plain": [
       "          bikes\n",
       "store 1      20\n",
       "store 2      20"
      ]
     },
     "execution_count": 116,
     "metadata": {},
     "output_type": "execute_result"
    }
   ],
   "source": [
    "stores_items[['bikes']]"
   ]
  },
  {
   "cell_type": "code",
   "execution_count": 121,
   "id": "defeba6c-ed22-4573-947d-df13a143d9bd",
   "metadata": {},
   "outputs": [
    {
     "data": {
      "text/html": [
       "<div>\n",
       "<style scoped>\n",
       "    .dataframe tbody tr th:only-of-type {\n",
       "        vertical-align: middle;\n",
       "    }\n",
       "\n",
       "    .dataframe tbody tr th {\n",
       "        vertical-align: top;\n",
       "    }\n",
       "\n",
       "    .dataframe thead th {\n",
       "        text-align: right;\n",
       "    }\n",
       "</style>\n",
       "<table border=\"1\" class=\"dataframe\">\n",
       "  <thead>\n",
       "    <tr style=\"text-align: right;\">\n",
       "      <th></th>\n",
       "      <th>bikes</th>\n",
       "      <th>watch</th>\n",
       "    </tr>\n",
       "  </thead>\n",
       "  <tbody>\n",
       "    <tr>\n",
       "      <th>store 1</th>\n",
       "      <td>20</td>\n",
       "      <td>35</td>\n",
       "    </tr>\n",
       "    <tr>\n",
       "      <th>store 2</th>\n",
       "      <td>20</td>\n",
       "      <td>35</td>\n",
       "    </tr>\n",
       "  </tbody>\n",
       "</table>\n",
       "</div>"
      ],
      "text/plain": [
       "          bikes  watch\n",
       "store 1      20     35\n",
       "store 2      20     35"
      ]
     },
     "execution_count": 121,
     "metadata": {},
     "output_type": "execute_result"
    }
   ],
   "source": [
    "stores_items[['bikes','watch']]"
   ]
  },
  {
   "cell_type": "code",
   "execution_count": 123,
   "id": "3be8fba2-04dc-46b0-8e97-c2a799c2d33e",
   "metadata": {},
   "outputs": [
    {
     "data": {
      "text/plain": [
       "(store 1     50\n",
       " store 2     50\n",
       " Name: cars, dtype: int64,\n",
       " ['store 1'])"
      ]
     },
     "execution_count": 123,
     "metadata": {},
     "output_type": "execute_result"
    }
   ],
   "source": [
    "stores_items['cars'],['store 1']"
   ]
  },
  {
   "cell_type": "code",
   "execution_count": 129,
   "id": "18a18579-c647-49c5-aad6-fe126bd34be3",
   "metadata": {},
   "outputs": [
    {
     "data": {
      "text/html": [
       "<div>\n",
       "<style scoped>\n",
       "    .dataframe tbody tr th:only-of-type {\n",
       "        vertical-align: middle;\n",
       "    }\n",
       "\n",
       "    .dataframe tbody tr th {\n",
       "        vertical-align: top;\n",
       "    }\n",
       "\n",
       "    .dataframe thead th {\n",
       "        text-align: right;\n",
       "    }\n",
       "</style>\n",
       "<table border=\"1\" class=\"dataframe\">\n",
       "  <thead>\n",
       "    <tr style=\"text-align: right;\">\n",
       "      <th></th>\n",
       "      <th>bikes</th>\n",
       "      <th>watch</th>\n",
       "      <th>cars</th>\n",
       "      <th>total</th>\n",
       "    </tr>\n",
       "  </thead>\n",
       "  <tbody>\n",
       "    <tr>\n",
       "      <th>store 1</th>\n",
       "      <td>20</td>\n",
       "      <td>35</td>\n",
       "      <td>50</td>\n",
       "      <td>105</td>\n",
       "    </tr>\n",
       "    <tr>\n",
       "      <th>store 2</th>\n",
       "      <td>20</td>\n",
       "      <td>35</td>\n",
       "      <td>50</td>\n",
       "      <td>105</td>\n",
       "    </tr>\n",
       "  </tbody>\n",
       "</table>\n",
       "</div>"
      ],
      "text/plain": [
       "          bikes  watch  cars  total\n",
       "store 1      20     35    50    105\n",
       "store 2      20     35    50    105"
      ]
     },
     "execution_count": 129,
     "metadata": {},
     "output_type": "execute_result"
    }
   ],
   "source": [
    "stores_items['total'] = stores_items['bikes']+ stores_items['watch']+ stores_items['cars']\n",
    "stores_items"
   ]
  },
  {
   "cell_type": "code",
   "execution_count": 130,
   "id": "e8db064a-e9cf-4fb5-90f6-755fb7bbce86",
   "metadata": {},
   "outputs": [
    {
     "data": {
      "text/html": [
       "<div>\n",
       "<style scoped>\n",
       "    .dataframe tbody tr th:only-of-type {\n",
       "        vertical-align: middle;\n",
       "    }\n",
       "\n",
       "    .dataframe tbody tr th {\n",
       "        vertical-align: top;\n",
       "    }\n",
       "\n",
       "    .dataframe thead th {\n",
       "        text-align: right;\n",
       "    }\n",
       "</style>\n",
       "<table border=\"1\" class=\"dataframe\">\n",
       "  <thead>\n",
       "    <tr style=\"text-align: right;\">\n",
       "      <th></th>\n",
       "      <th>bikes</th>\n",
       "      <th>watch</th>\n",
       "      <th>cars</th>\n",
       "      <th>total</th>\n",
       "    </tr>\n",
       "  </thead>\n",
       "  <tbody>\n",
       "    <tr>\n",
       "      <th>store 1</th>\n",
       "      <td>20</td>\n",
       "      <td>35</td>\n",
       "      <td>50</td>\n",
       "      <td>105</td>\n",
       "    </tr>\n",
       "    <tr>\n",
       "      <th>store 2</th>\n",
       "      <td>20</td>\n",
       "      <td>35</td>\n",
       "      <td>50</td>\n",
       "      <td>105</td>\n",
       "    </tr>\n",
       "  </tbody>\n",
       "</table>\n",
       "</div>"
      ],
      "text/plain": [
       "          bikes  watch  cars  total\n",
       "store 1      20     35    50    105\n",
       "store 2      20     35    50    105"
      ]
     },
     "execution_count": 130,
     "metadata": {},
     "output_type": "execute_result"
    }
   ],
   "source": [
    "stores_items"
   ]
  },
  {
   "cell_type": "code",
   "execution_count": null,
   "id": "3ce428a3-8055-4ff7-ba23-4eaf5a164f5c",
   "metadata": {},
   "outputs": [],
   "source": []
  }
 ],
 "metadata": {
  "kernelspec": {
   "display_name": "Python 3 (ipykernel)",
   "language": "python",
   "name": "python3"
  },
  "language_info": {
   "codemirror_mode": {
    "name": "ipython",
    "version": 3
   },
   "file_extension": ".py",
   "mimetype": "text/x-python",
   "name": "python",
   "nbconvert_exporter": "python",
   "pygments_lexer": "ipython3",
   "version": "3.11.13"
  }
 },
 "nbformat": 4,
 "nbformat_minor": 5
}
